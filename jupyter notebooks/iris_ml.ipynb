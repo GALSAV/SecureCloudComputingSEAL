{
 "cells": [
  {
   "cell_type": "markdown",
   "metadata": {
    "_cell_guid": "b7dbedec-9483-4b22-484d-b8a8e04c49ae",
    "_uuid": "8807ae46aec34ec427b81344d64a3c0d607b258a"
   },
   "source": [
    "# Iris dataset analysis and SVM\n",
    "\n"
   ]
  },
  {
   "cell_type": "code",
   "execution_count": 104,
   "metadata": {
    "_cell_guid": "c8b7047a-c84c-c0ee-054d-a0c30609cc43",
    "_execution_state": "idle",
    "_uuid": "43047631b7881a23c63a655f5214b2ebaff946fa"
   },
   "outputs": [],
   "source": [
    "\n",
    "#import numpy as np # linear algebra\n",
    "import pandas as pd # data processing, CSV file I/O (e.g. pd.read_csv)\n",
    "import matplotlib.pyplot as plt\n",
    "from sklearn.datasets import load_iris\n"
   ]
  },
  {
   "cell_type": "code",
   "execution_count": 105,
   "metadata": {
    "_cell_guid": "ced2723b-e83e-6aa0-4ffb-9ace2cc4a5e3",
    "_execution_state": "idle",
    "_uuid": "db8aed63638fcf4833c050541cc0fe5a0b756670"
   },
   "outputs": [],
   "source": [
    "d_iris = load_iris()"
   ]
  },
  {
   "cell_type": "code",
   "execution_count": 106,
   "metadata": {},
   "outputs": [
    {
     "data": {
      "text/plain": [
       "['sepal length (cm)',\n",
       " 'sepal width (cm)',\n",
       " 'petal length (cm)',\n",
       " 'petal width (cm)']"
      ]
     },
     "execution_count": 106,
     "metadata": {},
     "output_type": "execute_result"
    }
   ],
   "source": [
    "d_iris.feature_names #show feature names"
   ]
  },
  {
   "cell_type": "code",
   "execution_count": 107,
   "metadata": {},
   "outputs": [
    {
     "data": {
      "text/plain": [
       "array(['setosa', 'versicolor', 'virginica'], dtype='<U10')"
      ]
     },
     "execution_count": 107,
     "metadata": {},
     "output_type": "execute_result"
    }
   ],
   "source": [
    "d_iris.target_names #show target names"
   ]
  },
  {
   "cell_type": "code",
   "execution_count": 108,
   "metadata": {},
   "outputs": [
    {
     "data": {
      "text/plain": [
       "{'data': array([[5.1, 3.5, 1.4, 0.2],\n",
       "        [4.9, 3. , 1.4, 0.2],\n",
       "        [4.7, 3.2, 1.3, 0.2],\n",
       "        [4.6, 3.1, 1.5, 0.2],\n",
       "        [5. , 3.6, 1.4, 0.2],\n",
       "        [5.4, 3.9, 1.7, 0.4],\n",
       "        [4.6, 3.4, 1.4, 0.3],\n",
       "        [5. , 3.4, 1.5, 0.2],\n",
       "        [4.4, 2.9, 1.4, 0.2],\n",
       "        [4.9, 3.1, 1.5, 0.1],\n",
       "        [5.4, 3.7, 1.5, 0.2],\n",
       "        [4.8, 3.4, 1.6, 0.2],\n",
       "        [4.8, 3. , 1.4, 0.1],\n",
       "        [4.3, 3. , 1.1, 0.1],\n",
       "        [5.8, 4. , 1.2, 0.2],\n",
       "        [5.7, 4.4, 1.5, 0.4],\n",
       "        [5.4, 3.9, 1.3, 0.4],\n",
       "        [5.1, 3.5, 1.4, 0.3],\n",
       "        [5.7, 3.8, 1.7, 0.3],\n",
       "        [5.1, 3.8, 1.5, 0.3],\n",
       "        [5.4, 3.4, 1.7, 0.2],\n",
       "        [5.1, 3.7, 1.5, 0.4],\n",
       "        [4.6, 3.6, 1. , 0.2],\n",
       "        [5.1, 3.3, 1.7, 0.5],\n",
       "        [4.8, 3.4, 1.9, 0.2],\n",
       "        [5. , 3. , 1.6, 0.2],\n",
       "        [5. , 3.4, 1.6, 0.4],\n",
       "        [5.2, 3.5, 1.5, 0.2],\n",
       "        [5.2, 3.4, 1.4, 0.2],\n",
       "        [4.7, 3.2, 1.6, 0.2],\n",
       "        [4.8, 3.1, 1.6, 0.2],\n",
       "        [5.4, 3.4, 1.5, 0.4],\n",
       "        [5.2, 4.1, 1.5, 0.1],\n",
       "        [5.5, 4.2, 1.4, 0.2],\n",
       "        [4.9, 3.1, 1.5, 0.2],\n",
       "        [5. , 3.2, 1.2, 0.2],\n",
       "        [5.5, 3.5, 1.3, 0.2],\n",
       "        [4.9, 3.6, 1.4, 0.1],\n",
       "        [4.4, 3. , 1.3, 0.2],\n",
       "        [5.1, 3.4, 1.5, 0.2],\n",
       "        [5. , 3.5, 1.3, 0.3],\n",
       "        [4.5, 2.3, 1.3, 0.3],\n",
       "        [4.4, 3.2, 1.3, 0.2],\n",
       "        [5. , 3.5, 1.6, 0.6],\n",
       "        [5.1, 3.8, 1.9, 0.4],\n",
       "        [4.8, 3. , 1.4, 0.3],\n",
       "        [5.1, 3.8, 1.6, 0.2],\n",
       "        [4.6, 3.2, 1.4, 0.2],\n",
       "        [5.3, 3.7, 1.5, 0.2],\n",
       "        [5. , 3.3, 1.4, 0.2],\n",
       "        [7. , 3.2, 4.7, 1.4],\n",
       "        [6.4, 3.2, 4.5, 1.5],\n",
       "        [6.9, 3.1, 4.9, 1.5],\n",
       "        [5.5, 2.3, 4. , 1.3],\n",
       "        [6.5, 2.8, 4.6, 1.5],\n",
       "        [5.7, 2.8, 4.5, 1.3],\n",
       "        [6.3, 3.3, 4.7, 1.6],\n",
       "        [4.9, 2.4, 3.3, 1. ],\n",
       "        [6.6, 2.9, 4.6, 1.3],\n",
       "        [5.2, 2.7, 3.9, 1.4],\n",
       "        [5. , 2. , 3.5, 1. ],\n",
       "        [5.9, 3. , 4.2, 1.5],\n",
       "        [6. , 2.2, 4. , 1. ],\n",
       "        [6.1, 2.9, 4.7, 1.4],\n",
       "        [5.6, 2.9, 3.6, 1.3],\n",
       "        [6.7, 3.1, 4.4, 1.4],\n",
       "        [5.6, 3. , 4.5, 1.5],\n",
       "        [5.8, 2.7, 4.1, 1. ],\n",
       "        [6.2, 2.2, 4.5, 1.5],\n",
       "        [5.6, 2.5, 3.9, 1.1],\n",
       "        [5.9, 3.2, 4.8, 1.8],\n",
       "        [6.1, 2.8, 4. , 1.3],\n",
       "        [6.3, 2.5, 4.9, 1.5],\n",
       "        [6.1, 2.8, 4.7, 1.2],\n",
       "        [6.4, 2.9, 4.3, 1.3],\n",
       "        [6.6, 3. , 4.4, 1.4],\n",
       "        [6.8, 2.8, 4.8, 1.4],\n",
       "        [6.7, 3. , 5. , 1.7],\n",
       "        [6. , 2.9, 4.5, 1.5],\n",
       "        [5.7, 2.6, 3.5, 1. ],\n",
       "        [5.5, 2.4, 3.8, 1.1],\n",
       "        [5.5, 2.4, 3.7, 1. ],\n",
       "        [5.8, 2.7, 3.9, 1.2],\n",
       "        [6. , 2.7, 5.1, 1.6],\n",
       "        [5.4, 3. , 4.5, 1.5],\n",
       "        [6. , 3.4, 4.5, 1.6],\n",
       "        [6.7, 3.1, 4.7, 1.5],\n",
       "        [6.3, 2.3, 4.4, 1.3],\n",
       "        [5.6, 3. , 4.1, 1.3],\n",
       "        [5.5, 2.5, 4. , 1.3],\n",
       "        [5.5, 2.6, 4.4, 1.2],\n",
       "        [6.1, 3. , 4.6, 1.4],\n",
       "        [5.8, 2.6, 4. , 1.2],\n",
       "        [5. , 2.3, 3.3, 1. ],\n",
       "        [5.6, 2.7, 4.2, 1.3],\n",
       "        [5.7, 3. , 4.2, 1.2],\n",
       "        [5.7, 2.9, 4.2, 1.3],\n",
       "        [6.2, 2.9, 4.3, 1.3],\n",
       "        [5.1, 2.5, 3. , 1.1],\n",
       "        [5.7, 2.8, 4.1, 1.3],\n",
       "        [6.3, 3.3, 6. , 2.5],\n",
       "        [5.8, 2.7, 5.1, 1.9],\n",
       "        [7.1, 3. , 5.9, 2.1],\n",
       "        [6.3, 2.9, 5.6, 1.8],\n",
       "        [6.5, 3. , 5.8, 2.2],\n",
       "        [7.6, 3. , 6.6, 2.1],\n",
       "        [4.9, 2.5, 4.5, 1.7],\n",
       "        [7.3, 2.9, 6.3, 1.8],\n",
       "        [6.7, 2.5, 5.8, 1.8],\n",
       "        [7.2, 3.6, 6.1, 2.5],\n",
       "        [6.5, 3.2, 5.1, 2. ],\n",
       "        [6.4, 2.7, 5.3, 1.9],\n",
       "        [6.8, 3. , 5.5, 2.1],\n",
       "        [5.7, 2.5, 5. , 2. ],\n",
       "        [5.8, 2.8, 5.1, 2.4],\n",
       "        [6.4, 3.2, 5.3, 2.3],\n",
       "        [6.5, 3. , 5.5, 1.8],\n",
       "        [7.7, 3.8, 6.7, 2.2],\n",
       "        [7.7, 2.6, 6.9, 2.3],\n",
       "        [6. , 2.2, 5. , 1.5],\n",
       "        [6.9, 3.2, 5.7, 2.3],\n",
       "        [5.6, 2.8, 4.9, 2. ],\n",
       "        [7.7, 2.8, 6.7, 2. ],\n",
       "        [6.3, 2.7, 4.9, 1.8],\n",
       "        [6.7, 3.3, 5.7, 2.1],\n",
       "        [7.2, 3.2, 6. , 1.8],\n",
       "        [6.2, 2.8, 4.8, 1.8],\n",
       "        [6.1, 3. , 4.9, 1.8],\n",
       "        [6.4, 2.8, 5.6, 2.1],\n",
       "        [7.2, 3. , 5.8, 1.6],\n",
       "        [7.4, 2.8, 6.1, 1.9],\n",
       "        [7.9, 3.8, 6.4, 2. ],\n",
       "        [6.4, 2.8, 5.6, 2.2],\n",
       "        [6.3, 2.8, 5.1, 1.5],\n",
       "        [6.1, 2.6, 5.6, 1.4],\n",
       "        [7.7, 3. , 6.1, 2.3],\n",
       "        [6.3, 3.4, 5.6, 2.4],\n",
       "        [6.4, 3.1, 5.5, 1.8],\n",
       "        [6. , 3. , 4.8, 1.8],\n",
       "        [6.9, 3.1, 5.4, 2.1],\n",
       "        [6.7, 3.1, 5.6, 2.4],\n",
       "        [6.9, 3.1, 5.1, 2.3],\n",
       "        [5.8, 2.7, 5.1, 1.9],\n",
       "        [6.8, 3.2, 5.9, 2.3],\n",
       "        [6.7, 3.3, 5.7, 2.5],\n",
       "        [6.7, 3. , 5.2, 2.3],\n",
       "        [6.3, 2.5, 5. , 1.9],\n",
       "        [6.5, 3. , 5.2, 2. ],\n",
       "        [6.2, 3.4, 5.4, 2.3],\n",
       "        [5.9, 3. , 5.1, 1.8]]),\n",
       " 'target': array([0, 0, 0, 0, 0, 0, 0, 0, 0, 0, 0, 0, 0, 0, 0, 0, 0, 0, 0, 0, 0, 0,\n",
       "        0, 0, 0, 0, 0, 0, 0, 0, 0, 0, 0, 0, 0, 0, 0, 0, 0, 0, 0, 0, 0, 0,\n",
       "        0, 0, 0, 0, 0, 0, 1, 1, 1, 1, 1, 1, 1, 1, 1, 1, 1, 1, 1, 1, 1, 1,\n",
       "        1, 1, 1, 1, 1, 1, 1, 1, 1, 1, 1, 1, 1, 1, 1, 1, 1, 1, 1, 1, 1, 1,\n",
       "        1, 1, 1, 1, 1, 1, 1, 1, 1, 1, 1, 1, 2, 2, 2, 2, 2, 2, 2, 2, 2, 2,\n",
       "        2, 2, 2, 2, 2, 2, 2, 2, 2, 2, 2, 2, 2, 2, 2, 2, 2, 2, 2, 2, 2, 2,\n",
       "        2, 2, 2, 2, 2, 2, 2, 2, 2, 2, 2, 2, 2, 2, 2, 2, 2, 2]),\n",
       " 'target_names': array(['setosa', 'versicolor', 'virginica'], dtype='<U10'),\n",
       " 'DESCR': '.. _iris_dataset:\\n\\nIris plants dataset\\n--------------------\\n\\n**Data Set Characteristics:**\\n\\n    :Number of Instances: 150 (50 in each of three classes)\\n    :Number of Attributes: 4 numeric, predictive attributes and the class\\n    :Attribute Information:\\n        - sepal length in cm\\n        - sepal width in cm\\n        - petal length in cm\\n        - petal width in cm\\n        - class:\\n                - Iris-Setosa\\n                - Iris-Versicolour\\n                - Iris-Virginica\\n                \\n    :Summary Statistics:\\n\\n    ============== ==== ==== ======= ===== ====================\\n                    Min  Max   Mean    SD   Class Correlation\\n    ============== ==== ==== ======= ===== ====================\\n    sepal length:   4.3  7.9   5.84   0.83    0.7826\\n    sepal width:    2.0  4.4   3.05   0.43   -0.4194\\n    petal length:   1.0  6.9   3.76   1.76    0.9490  (high!)\\n    petal width:    0.1  2.5   1.20   0.76    0.9565  (high!)\\n    ============== ==== ==== ======= ===== ====================\\n\\n    :Missing Attribute Values: None\\n    :Class Distribution: 33.3% for each of 3 classes.\\n    :Creator: R.A. Fisher\\n    :Donor: Michael Marshall (MARSHALL%PLU@io.arc.nasa.gov)\\n    :Date: July, 1988\\n\\nThe famous Iris database, first used by Sir R.A. Fisher. The dataset is taken\\nfrom Fisher\\'s paper. Note that it\\'s the same as in R, but not as in the UCI\\nMachine Learning Repository, which has two wrong data points.\\n\\nThis is perhaps the best known database to be found in the\\npattern recognition literature.  Fisher\\'s paper is a classic in the field and\\nis referenced frequently to this day.  (See Duda & Hart, for example.)  The\\ndata set contains 3 classes of 50 instances each, where each class refers to a\\ntype of iris plant.  One class is linearly separable from the other 2; the\\nlatter are NOT linearly separable from each other.\\n\\n.. topic:: References\\n\\n   - Fisher, R.A. \"The use of multiple measurements in taxonomic problems\"\\n     Annual Eugenics, 7, Part II, 179-188 (1936); also in \"Contributions to\\n     Mathematical Statistics\" (John Wiley, NY, 1950).\\n   - Duda, R.O., & Hart, P.E. (1973) Pattern Classification and Scene Analysis.\\n     (Q327.D83) John Wiley & Sons.  ISBN 0-471-22361-1.  See page 218.\\n   - Dasarathy, B.V. (1980) \"Nosing Around the Neighborhood: A New System\\n     Structure and Classification Rule for Recognition in Partially Exposed\\n     Environments\".  IEEE Transactions on Pattern Analysis and Machine\\n     Intelligence, Vol. PAMI-2, No. 1, 67-71.\\n   - Gates, G.W. (1972) \"The Reduced Nearest Neighbor Rule\".  IEEE Transactions\\n     on Information Theory, May 1972, 431-433.\\n   - See also: 1988 MLC Proceedings, 54-64.  Cheeseman et al\"s AUTOCLASS II\\n     conceptual clustering system finds 3 classes in the data.\\n   - Many, many more ...',\n",
       " 'feature_names': ['sepal length (cm)',\n",
       "  'sepal width (cm)',\n",
       "  'petal length (cm)',\n",
       "  'petal width (cm)'],\n",
       " 'filename': 'C:\\\\ProgramData\\\\Anaconda3\\\\lib\\\\site-packages\\\\sklearn\\\\datasets\\\\data\\\\iris.csv'}"
      ]
     },
     "execution_count": 108,
     "metadata": {},
     "output_type": "execute_result"
    }
   ],
   "source": [
    "d_iris"
   ]
  },
  {
   "cell_type": "code",
   "execution_count": 109,
   "metadata": {},
   "outputs": [],
   "source": [
    "iris = pd.DataFrame(d_iris.data,columns=d_iris.feature_names)\n",
    "\n",
    "iris['target'] = d_iris.target"
   ]
  },
  {
   "cell_type": "code",
   "execution_count": 110,
   "metadata": {},
   "outputs": [
    {
     "name": "stdout",
     "output_type": "stream",
     "text": [
      "<class 'pandas.core.frame.DataFrame'>\n",
      "RangeIndex: 150 entries, 0 to 149\n",
      "Data columns (total 5 columns):\n",
      "sepal length (cm)    150 non-null float64\n",
      "sepal width (cm)     150 non-null float64\n",
      "petal length (cm)    150 non-null float64\n",
      "petal width (cm)     150 non-null float64\n",
      "target               150 non-null int32\n",
      "dtypes: float64(4), int32(1)\n",
      "memory usage: 5.4 KB\n"
     ]
    }
   ],
   "source": [
    "iris.info()  #checking if there is any inconsistency in the dataset\n",
    "#as we see there are no null values in the dataset, so the data can be processed"
   ]
  },
  {
   "cell_type": "code",
   "execution_count": 111,
   "metadata": {},
   "outputs": [
    {
     "data": {
      "text/html": [
       "<div>\n",
       "<style scoped>\n",
       "    .dataframe tbody tr th:only-of-type {\n",
       "        vertical-align: middle;\n",
       "    }\n",
       "\n",
       "    .dataframe tbody tr th {\n",
       "        vertical-align: top;\n",
       "    }\n",
       "\n",
       "    .dataframe thead th {\n",
       "        text-align: right;\n",
       "    }\n",
       "</style>\n",
       "<table border=\"1\" class=\"dataframe\">\n",
       "  <thead>\n",
       "    <tr style=\"text-align: right;\">\n",
       "      <th></th>\n",
       "      <th>sepal length (cm)</th>\n",
       "      <th>sepal width (cm)</th>\n",
       "      <th>petal length (cm)</th>\n",
       "      <th>petal width (cm)</th>\n",
       "      <th>target</th>\n",
       "    </tr>\n",
       "  </thead>\n",
       "  <tbody>\n",
       "    <tr>\n",
       "      <td>0</td>\n",
       "      <td>5.1</td>\n",
       "      <td>3.5</td>\n",
       "      <td>1.4</td>\n",
       "      <td>0.2</td>\n",
       "      <td>0</td>\n",
       "    </tr>\n",
       "    <tr>\n",
       "      <td>1</td>\n",
       "      <td>4.9</td>\n",
       "      <td>3.0</td>\n",
       "      <td>1.4</td>\n",
       "      <td>0.2</td>\n",
       "      <td>0</td>\n",
       "    </tr>\n",
       "    <tr>\n",
       "      <td>2</td>\n",
       "      <td>4.7</td>\n",
       "      <td>3.2</td>\n",
       "      <td>1.3</td>\n",
       "      <td>0.2</td>\n",
       "      <td>0</td>\n",
       "    </tr>\n",
       "    <tr>\n",
       "      <td>3</td>\n",
       "      <td>4.6</td>\n",
       "      <td>3.1</td>\n",
       "      <td>1.5</td>\n",
       "      <td>0.2</td>\n",
       "      <td>0</td>\n",
       "    </tr>\n",
       "    <tr>\n",
       "      <td>4</td>\n",
       "      <td>5.0</td>\n",
       "      <td>3.6</td>\n",
       "      <td>1.4</td>\n",
       "      <td>0.2</td>\n",
       "      <td>0</td>\n",
       "    </tr>\n",
       "    <tr>\n",
       "      <td>5</td>\n",
       "      <td>5.4</td>\n",
       "      <td>3.9</td>\n",
       "      <td>1.7</td>\n",
       "      <td>0.4</td>\n",
       "      <td>0</td>\n",
       "    </tr>\n",
       "    <tr>\n",
       "      <td>6</td>\n",
       "      <td>4.6</td>\n",
       "      <td>3.4</td>\n",
       "      <td>1.4</td>\n",
       "      <td>0.3</td>\n",
       "      <td>0</td>\n",
       "    </tr>\n",
       "    <tr>\n",
       "      <td>7</td>\n",
       "      <td>5.0</td>\n",
       "      <td>3.4</td>\n",
       "      <td>1.5</td>\n",
       "      <td>0.2</td>\n",
       "      <td>0</td>\n",
       "    </tr>\n",
       "    <tr>\n",
       "      <td>8</td>\n",
       "      <td>4.4</td>\n",
       "      <td>2.9</td>\n",
       "      <td>1.4</td>\n",
       "      <td>0.2</td>\n",
       "      <td>0</td>\n",
       "    </tr>\n",
       "    <tr>\n",
       "      <td>9</td>\n",
       "      <td>4.9</td>\n",
       "      <td>3.1</td>\n",
       "      <td>1.5</td>\n",
       "      <td>0.1</td>\n",
       "      <td>0</td>\n",
       "    </tr>\n",
       "    <tr>\n",
       "      <td>10</td>\n",
       "      <td>5.4</td>\n",
       "      <td>3.7</td>\n",
       "      <td>1.5</td>\n",
       "      <td>0.2</td>\n",
       "      <td>0</td>\n",
       "    </tr>\n",
       "    <tr>\n",
       "      <td>11</td>\n",
       "      <td>4.8</td>\n",
       "      <td>3.4</td>\n",
       "      <td>1.6</td>\n",
       "      <td>0.2</td>\n",
       "      <td>0</td>\n",
       "    </tr>\n",
       "    <tr>\n",
       "      <td>12</td>\n",
       "      <td>4.8</td>\n",
       "      <td>3.0</td>\n",
       "      <td>1.4</td>\n",
       "      <td>0.1</td>\n",
       "      <td>0</td>\n",
       "    </tr>\n",
       "    <tr>\n",
       "      <td>13</td>\n",
       "      <td>4.3</td>\n",
       "      <td>3.0</td>\n",
       "      <td>1.1</td>\n",
       "      <td>0.1</td>\n",
       "      <td>0</td>\n",
       "    </tr>\n",
       "    <tr>\n",
       "      <td>14</td>\n",
       "      <td>5.8</td>\n",
       "      <td>4.0</td>\n",
       "      <td>1.2</td>\n",
       "      <td>0.2</td>\n",
       "      <td>0</td>\n",
       "    </tr>\n",
       "    <tr>\n",
       "      <td>15</td>\n",
       "      <td>5.7</td>\n",
       "      <td>4.4</td>\n",
       "      <td>1.5</td>\n",
       "      <td>0.4</td>\n",
       "      <td>0</td>\n",
       "    </tr>\n",
       "    <tr>\n",
       "      <td>16</td>\n",
       "      <td>5.4</td>\n",
       "      <td>3.9</td>\n",
       "      <td>1.3</td>\n",
       "      <td>0.4</td>\n",
       "      <td>0</td>\n",
       "    </tr>\n",
       "    <tr>\n",
       "      <td>17</td>\n",
       "      <td>5.1</td>\n",
       "      <td>3.5</td>\n",
       "      <td>1.4</td>\n",
       "      <td>0.3</td>\n",
       "      <td>0</td>\n",
       "    </tr>\n",
       "    <tr>\n",
       "      <td>18</td>\n",
       "      <td>5.7</td>\n",
       "      <td>3.8</td>\n",
       "      <td>1.7</td>\n",
       "      <td>0.3</td>\n",
       "      <td>0</td>\n",
       "    </tr>\n",
       "    <tr>\n",
       "      <td>19</td>\n",
       "      <td>5.1</td>\n",
       "      <td>3.8</td>\n",
       "      <td>1.5</td>\n",
       "      <td>0.3</td>\n",
       "      <td>0</td>\n",
       "    </tr>\n",
       "  </tbody>\n",
       "</table>\n",
       "</div>"
      ],
      "text/plain": [
       "    sepal length (cm)  sepal width (cm)  petal length (cm)  petal width (cm)  \\\n",
       "0                 5.1               3.5                1.4               0.2   \n",
       "1                 4.9               3.0                1.4               0.2   \n",
       "2                 4.7               3.2                1.3               0.2   \n",
       "3                 4.6               3.1                1.5               0.2   \n",
       "4                 5.0               3.6                1.4               0.2   \n",
       "5                 5.4               3.9                1.7               0.4   \n",
       "6                 4.6               3.4                1.4               0.3   \n",
       "7                 5.0               3.4                1.5               0.2   \n",
       "8                 4.4               2.9                1.4               0.2   \n",
       "9                 4.9               3.1                1.5               0.1   \n",
       "10                5.4               3.7                1.5               0.2   \n",
       "11                4.8               3.4                1.6               0.2   \n",
       "12                4.8               3.0                1.4               0.1   \n",
       "13                4.3               3.0                1.1               0.1   \n",
       "14                5.8               4.0                1.2               0.2   \n",
       "15                5.7               4.4                1.5               0.4   \n",
       "16                5.4               3.9                1.3               0.4   \n",
       "17                5.1               3.5                1.4               0.3   \n",
       "18                5.7               3.8                1.7               0.3   \n",
       "19                5.1               3.8                1.5               0.3   \n",
       "\n",
       "    target  \n",
       "0        0  \n",
       "1        0  \n",
       "2        0  \n",
       "3        0  \n",
       "4        0  \n",
       "5        0  \n",
       "6        0  \n",
       "7        0  \n",
       "8        0  \n",
       "9        0  \n",
       "10       0  \n",
       "11       0  \n",
       "12       0  \n",
       "13       0  \n",
       "14       0  \n",
       "15       0  \n",
       "16       0  \n",
       "17       0  \n",
       "18       0  \n",
       "19       0  "
      ]
     },
     "execution_count": 111,
     "metadata": {},
     "output_type": "execute_result"
    }
   ],
   "source": [
    "iris.head(20)  #show the first 20 rows from the dataset"
   ]
  },
  {
   "cell_type": "markdown",
   "metadata": {
    "_cell_guid": "a2e19920-d24b-7551-10c4-e1088c8a4324",
    "_uuid": "f00690de3343002575e680a83ae395ef0060fe1f"
   },
   "source": [
    "## Some Exploratory Data Analysis With Iris"
   ]
  },
  {
   "cell_type": "code",
   "execution_count": 112,
   "metadata": {
    "_cell_guid": "09a16bf0-067b-8da0-3eed-2014dc8cfec7",
    "_execution_state": "idle",
    "_uuid": "c9fd2c2b0eb51ada3a4f57eb51023cb080a0d308"
   },
   "outputs": [
    {
     "data": {
      "image/png": "[encoded data removed]",
      "text/plain": [
       "<Figure size 720x432 with 1 Axes>"
      ]
     },
     "metadata": {
      "needs_background": "light"
     },
     "output_type": "display_data"
    }
   ],
   "source": [
    "fig = iris[iris.target==0].plot(kind='scatter',x='sepal length (cm)',y='sepal width (cm)',color='orange', label='Setosa')\n",
    "iris[iris.target==1].plot(kind='scatter',x='sepal length (cm)',y='sepal width (cm)',color='blue', label='versicolor',ax=fig)\n",
    "iris[iris.target==2].plot(kind='scatter',x='sepal length (cm)',y='sepal width (cm)',color='green', label='virginica', ax=fig)\n",
    "fig.set_xlabel(\"Sepal Length\")\n",
    "fig.set_ylabel(\"Sepal Width\")\n",
    "fig.set_title(\"Sepal Length VS Width\")\n",
    "fig=plt.gcf()\n",
    "fig.set_size_inches(10,6)\n",
    "plt.show()"
   ]
  },
  {
   "cell_type": "markdown",
   "metadata": {
    "_cell_guid": "e853b9fa-a1db-cdc8-1f8f-0f5f2f2d1ab6",
    "_uuid": "d0793e117fd202f679b6ecb1239e0ab0a8cfd137"
   },
   "source": [
    "The above graph shows relationship between the sepal length and width. Now we will check relationship between the petal length and width."
   ]
  },
  {
   "cell_type": "code",
   "execution_count": 113,
   "metadata": {
    "_cell_guid": "ea5060b8-4067-cf46-99d6-a27be10a7e18",
    "_execution_state": "idle",
    "_uuid": "16a42e3a6615e48f7b8ed0a6dbb380de74dcd2c8"
   },
   "outputs": [
    {
     "data": {
      "image/png": "[encoded data removed]",
      "text/plain": [
       "<Figure size 720x432 with 1 Axes>"
      ]
     },
     "metadata": {
      "needs_background": "light"
     },
     "output_type": "display_data"
    }
   ],
   "source": [
    "fig = iris[iris.target==0].plot.scatter(x='petal length (cm)',y='petal width (cm)',color='orange', label='Setosa')\n",
    "iris[iris.target==1].plot.scatter(x='petal length (cm)',y='petal width (cm)',color='blue', label='versicolor',ax=fig)\n",
    "iris[iris.target==2].plot.scatter(x='petal length (cm)',y='petal width (cm)',color='green', label='virginica', ax=fig)\n",
    "fig.set_xlabel(\"Petal Length\")\n",
    "fig.set_ylabel(\"Petal Width\")\n",
    "fig.set_title(\" Petal Length VS Width\")\n",
    "fig=plt.gcf()\n",
    "fig.set_size_inches(10,6)\n",
    "plt.show()"
   ]
  },
  {
   "cell_type": "markdown",
   "metadata": {
    "_cell_guid": "3068e91a-2455-f7ae-b1d0-a2114b78ea62",
    "_uuid": "dd90c7e433f42fea8e5836c91959429710491347"
   },
   "source": [
    "As we can see that the Petal Features are giving a better cluster division compared to the Sepal features. This is an indication that the Petals can help in better and accurate Predictions over the Sepal."
   ]
  },
  {
   "cell_type": "markdown",
   "metadata": {
    "_cell_guid": "ac6bb577-9975-39d5-aa20-376e574e703c",
    "_uuid": "aaa439a16175b442a42e845060b7fe1bd2d246f0"
   },
   "source": [
    "### Now let us see how are the length and width are distributed"
   ]
  },
  {
   "cell_type": "code",
   "execution_count": 114,
   "metadata": {
    "_cell_guid": "d818068d-5110-c64e-ec6e-92bda44a9723",
    "_execution_state": "idle",
    "_uuid": "0ca23638e6e067ffd7501552f346674646e3e1d2"
   },
   "outputs": [
    {
     "data": {
      "image/png": "[encoded data removed]",
      "text/plain": [
       "<Figure size 864x432 with 6 Axes>"
      ]
     },
     "metadata": {
      "needs_background": "light"
     },
     "output_type": "display_data"
    }
   ],
   "source": [
    "iris.hist(edgecolor='black', linewidth=1.2)\n",
    "fig=plt.gcf()\n",
    "fig.set_size_inches(12,6)\n",
    "plt.show()"
   ]
  },
  {
   "cell_type": "code",
   "execution_count": null,
   "metadata": {},
   "outputs": [],
   "source": []
  },
  {
   "cell_type": "markdown",
   "metadata": {
    "_cell_guid": "cdb55848-d7eb-d66c-dec1-79cbbfba2826",
    "_uuid": "3e8d0f657f996be6f4020b1850148bade9fdc588"
   },
   "source": [
    "### Now let us see how the length and width vary according to the species"
   ]
  },
  {
   "cell_type": "code",
   "execution_count": 115,
   "metadata": {
    "_cell_guid": "a1d57f07-5c6b-4ab3-ad15-b8b5245c05b9",
    "_execution_state": "idle",
    "_uuid": "15e65581708a5b67ac8f0c1994fa08ef8158e799"
   },
   "outputs": [
    {
     "data": {
      "text/plain": [
       "<matplotlib.axes._subplots.AxesSubplot at 0x1c9df7f3208>"
      ]
     },
     "execution_count": 115,
     "metadata": {},
     "output_type": "execute_result"
    },
    {
     "data": {
      "image/png": "[encoded data removed]",
      "text/plain": [
       "<Figure size 1080x720 with 4 Axes>"
      ]
     },
     "metadata": {
      "needs_background": "light"
     },
     "output_type": "display_data"
    }
   ],
   "source": [
    "plt.figure(figsize=(15,10))\n",
    "plt.subplot(2,2,1)\n",
    "sns.violinplot(x='target',y='petal length (cm)',data=iris)\n",
    "plt.subplot(2,2,2)\n",
    "sns.violinplot(x='target',y='petal width (cm)',data=iris)\n",
    "plt.subplot(2,2,3)\n",
    "sns.violinplot(x='target',y='sepal length (cm)',data=iris)\n",
    "plt.subplot(2,2,4)\n",
    "sns.violinplot(x='target',y='petal width (cm)',data=iris)"
   ]
  },
  {
   "cell_type": "code",
   "execution_count": null,
   "metadata": {},
   "outputs": [],
   "source": []
  },
  {
   "cell_type": "markdown",
   "metadata": {
    "_cell_guid": "2497705a-9c08-5d8b-6ca0-0edc509e73b9",
    "_uuid": "0e907abebd6751fa3597fd6b08bb24eb13081443"
   },
   "source": [
    "The violinplot shows density of the length and width in the target (species). The thinner part denotes that there is less density whereas the fatter part conveys higher density"
   ]
  },
  {
   "cell_type": "markdown",
   "metadata": {
    "_cell_guid": "4df5f118-994c-4d7d-2fa1-b8a1ed1a82ec",
    "_uuid": "b45c7ca882bf32568268465f041282cfcd0e6fe9"
   },
   "source": [
    "### Now the given problem is a classification problem.. Thus we will be using the classification algorithms to build a model.\n",
    "**Classification**: samples belong to two or more classes and we want to learn from already labeled data how to predict the class of unlabeled data\n",
    "\n"
   ]
  },
  {
   "cell_type": "markdown",
   "metadata": {
    "_cell_guid": "b772ca1b-fd3c-d27a-b787-926c2df4e354",
    "_uuid": "a0436d5a5baa07027fdc10ad918d776e7fe948f4"
   },
   "source": [
    "Before we start, we need to clear some ML notations.\n",
    "\n",
    "**attributes**-->An attribute is a property of an instance that may be used to determine its classification. In the following dataset, the attributes are the petal and sepal length and width. It is also known as **Features**.\n",
    "\n",
    "**Target variable**, in the machine learning context is the variable that is or should be the output. Here the target variables are the 3 flower species."
   ]
  },
  {
   "cell_type": "code",
   "execution_count": 116,
   "metadata": {
    "_cell_guid": "c27e7e16-6083-5b53-cda4-c43cf4c79a67",
    "_execution_state": "idle",
    "_uuid": "2b652b2398f95bacb6286eac49694cd422a54e6a"
   },
   "outputs": [],
   "source": [
    "# importing alll the necessary packages to use the various classification algorithms\n",
    "from sklearn import svm  #for Support Vector Machine (SVM) Algorithm\n",
    "from sklearn import metrics #for checking the model accuracy\n"
   ]
  },
  {
   "cell_type": "code",
   "execution_count": 117,
   "metadata": {
    "_cell_guid": "d967de9a-df34-bc84-899b-28b8804f7d58",
    "_execution_state": "idle",
    "_uuid": "15457e7fa8ff19b86c2858c365f11fa289fca723"
   },
   "outputs": [
    {
     "data": {
      "text/plain": [
       "(150, 5)"
      ]
     },
     "execution_count": 117,
     "metadata": {},
     "output_type": "execute_result"
    }
   ],
   "source": [
    "iris.shape #get the shape of the dataset"
   ]
  },
  {
   "cell_type": "markdown",
   "metadata": {
    "_cell_guid": "21c81da1-f5f8-8d86-6c23-76928d0ec387",
    "_uuid": "a09827c482cacd56f2040afdb162d46270551512"
   },
   "source": [
    "Now, when we train any algorithm, the number of features and their correlation plays an important role. If there are features and many of the features are highly correlated, then training an algorithm with all the featues will reduce the accuracy. Thus features selection should be done carefully. This dataset has less featues but still we will see the correlation."
   ]
  },
  {
   "cell_type": "code",
   "execution_count": 118,
   "metadata": {
    "_cell_guid": "91f4a3b2-6e38-4d41-9ba0-52c7f43a581c",
    "_execution_state": "idle",
    "_uuid": "86e4d3c42eeec9d2df63d5f60c94e2c30b65ebd7"
   },
   "outputs": [
    {
     "data": {
      "image/png": "[encoded data removed]",
      "text/plain": [
       "<Figure size 1080x720 with 2 Axes>"
      ]
     },
     "metadata": {
      "needs_background": "light"
     },
     "output_type": "display_data"
    }
   ],
   "source": [
    "plt.figure(figsize=(15,10)) \n",
    "sns.heatmap(iris.corr(),annot=True,cmap='cubehelix_r') \n",
    "#draws  heatmap with input as the correlation matrix calculted by(iris.corr())\n",
    "plt.show()\n"
   ]
  },
  {
   "cell_type": "markdown",
   "metadata": {
    "_cell_guid": "45543c97-83ae-392c-183c-24d118985163",
    "_uuid": "a2456971023a8d78416ae87fd1b09173da1e357e"
   },
   "source": [
    "**Observation--->**\n",
    "\n",
    "The Sepal Width and Length are not correlated\n",
    "The Petal Width and Length are highly correlated\n",
    "\n",
    "We will use all the features for training the algorithm and check the accuracy.\n",
    "\n",
    "Then we will use 1 Petal Feature and 1 Sepal Feature to check the accuracy of the algorithm as we are using only 2 features that are not correlated. Thus we can have a variance in the dataset which may help in better accuracy. We will check it later."
   ]
  },
  {
   "cell_type": "code",
   "execution_count": 119,
   "metadata": {},
   "outputs": [],
   "source": [
    "df0 = iris[iris.target==0]\n",
    "df1 = iris[iris.target==1]\n",
    "df2 = iris[iris.target==2]"
   ]
  },
  {
   "cell_type": "markdown",
   "metadata": {},
   "source": [
    "## We need classafication only on two first classes"
   ]
  },
  {
   "cell_type": "code",
   "execution_count": 120,
   "metadata": {},
   "outputs": [
    {
     "data": {
      "text/plain": [
       "<matplotlib.collections.PathCollection at 0x1c9e0205108>"
      ]
     },
     "execution_count": 120,
     "metadata": {},
     "output_type": "execute_result"
    },
    {
     "data": {
      "image/png": "[encoded data removed]",
      "text/plain": [
       "<Figure size 432x288 with 1 Axes>"
      ]
     },
     "metadata": {
      "needs_background": "light"
     },
     "output_type": "display_data"
    }
   ],
   "source": [
    "%matplotlib inline\n",
    "plt.xlabel('Sepal Length')\n",
    "plt.ylabel('Sepal Width')\n",
    "plt.scatter(df0['sepal length (cm)'], df0['sepal width (cm)'],color=\"green\",marker='+')\n",
    "plt.scatter(df1['sepal length (cm)'], df1['sepal width (cm)'],color=\"blue\",marker='.')"
   ]
  },
  {
   "cell_type": "code",
   "execution_count": 121,
   "metadata": {},
   "outputs": [
    {
     "data": {
      "text/plain": [
       "<matplotlib.collections.PathCollection at 0x1c9e047af88>"
      ]
     },
     "execution_count": 121,
     "metadata": {},
     "output_type": "execute_result"
    },
    {
     "data": {
      "image/png": "[encoded data removed]",
      "text/plain": [
       "<Figure size 432x288 with 1 Axes>"
      ]
     },
     "metadata": {
      "needs_background": "light"
     },
     "output_type": "display_data"
    }
   ],
   "source": [
    "plt.xlabel('Petal Length')\n",
    "plt.ylabel('Petal Width')\n",
    "plt.scatter(df0['petal length (cm)'], df0['petal width (cm)'],color=\"green\",marker='+')\n",
    "plt.scatter(df1['petal length (cm)'], df1['petal width (cm)'],color=\"blue\",marker='.')"
   ]
  },
  {
   "cell_type": "markdown",
   "metadata": {
    "_cell_guid": "74afdd84-2b1f-b6e3-b9e2-6c076e44cb10",
    "_uuid": "362675378d1f8d7892597877aa9dbd1caa20c0ff"
   },
   "source": [
    "### Steps To Be followed When Applying an Algorithm\n",
    "\n",
    " 1. Split the dataset into training and testing dataset. The testing dataset is generally smaller than training one as it will help in training the model better.\n",
    " 2. Select any algorithm based on the problem (classification or regression) whatever you feel may be good.\n",
    " 3. Then pass the training dataset to the algorithm to train it. We use the **.fit()** method\n",
    " 4. Then pass the testing data to the trained algorithm to predict the outcome. We use the **.predict()** method.\n",
    " 5. We then check the accuracy by **passing the predicted outcome and the actual output** to the model."
   ]
  },
  {
   "cell_type": "code",
   "execution_count": 122,
   "metadata": {},
   "outputs": [],
   "source": [
    "from sklearn.model_selection import train_test_split"
   ]
  },
  {
   "cell_type": "code",
   "execution_count": 123,
   "metadata": {},
   "outputs": [],
   "source": [
    "options = ['0', '1'] \n",
    "df_0_1 = iris[iris[\"target\"].isin(options)]"
   ]
  },
  {
   "cell_type": "code",
   "execution_count": 124,
   "metadata": {},
   "outputs": [],
   "source": [
    "X = df_0_1.drop(['target'], axis='columns')\n",
    "y = df_0_1.target"
   ]
  },
  {
   "cell_type": "markdown",
   "metadata": {
    "_cell_guid": "2de179a6-ea22-00ff-8756-63d3aef6bd2d",
    "_uuid": "ffa8b5a66eb4651f46672b7263774dbcf125ecbf"
   },
   "source": [
    "### Splitting The Data into Training And Testing Dataset"
   ]
  },
  {
   "cell_type": "code",
   "execution_count": 125,
   "metadata": {},
   "outputs": [
    {
     "data": {
      "text/html": [
       "<div>\n",
       "<style scoped>\n",
       "    .dataframe tbody tr th:only-of-type {\n",
       "        vertical-align: middle;\n",
       "    }\n",
       "\n",
       "    .dataframe tbody tr th {\n",
       "        vertical-align: top;\n",
       "    }\n",
       "\n",
       "    .dataframe thead th {\n",
       "        text-align: right;\n",
       "    }\n",
       "</style>\n",
       "<table border=\"1\" class=\"dataframe\">\n",
       "  <thead>\n",
       "    <tr style=\"text-align: right;\">\n",
       "      <th></th>\n",
       "      <th>sepal length (cm)</th>\n",
       "      <th>sepal width (cm)</th>\n",
       "      <th>petal length (cm)</th>\n",
       "      <th>petal width (cm)</th>\n",
       "    </tr>\n",
       "  </thead>\n",
       "  <tbody>\n",
       "    <tr>\n",
       "      <td>0</td>\n",
       "      <td>5.1</td>\n",
       "      <td>3.5</td>\n",
       "      <td>1.4</td>\n",
       "      <td>0.2</td>\n",
       "    </tr>\n",
       "    <tr>\n",
       "      <td>1</td>\n",
       "      <td>4.9</td>\n",
       "      <td>3.0</td>\n",
       "      <td>1.4</td>\n",
       "      <td>0.2</td>\n",
       "    </tr>\n",
       "    <tr>\n",
       "      <td>2</td>\n",
       "      <td>4.7</td>\n",
       "      <td>3.2</td>\n",
       "      <td>1.3</td>\n",
       "      <td>0.2</td>\n",
       "    </tr>\n",
       "    <tr>\n",
       "      <td>3</td>\n",
       "      <td>4.6</td>\n",
       "      <td>3.1</td>\n",
       "      <td>1.5</td>\n",
       "      <td>0.2</td>\n",
       "    </tr>\n",
       "    <tr>\n",
       "      <td>4</td>\n",
       "      <td>5.0</td>\n",
       "      <td>3.6</td>\n",
       "      <td>1.4</td>\n",
       "      <td>0.2</td>\n",
       "    </tr>\n",
       "    <tr>\n",
       "      <td>5</td>\n",
       "      <td>5.4</td>\n",
       "      <td>3.9</td>\n",
       "      <td>1.7</td>\n",
       "      <td>0.4</td>\n",
       "    </tr>\n",
       "    <tr>\n",
       "      <td>6</td>\n",
       "      <td>4.6</td>\n",
       "      <td>3.4</td>\n",
       "      <td>1.4</td>\n",
       "      <td>0.3</td>\n",
       "    </tr>\n",
       "    <tr>\n",
       "      <td>7</td>\n",
       "      <td>5.0</td>\n",
       "      <td>3.4</td>\n",
       "      <td>1.5</td>\n",
       "      <td>0.2</td>\n",
       "    </tr>\n",
       "    <tr>\n",
       "      <td>8</td>\n",
       "      <td>4.4</td>\n",
       "      <td>2.9</td>\n",
       "      <td>1.4</td>\n",
       "      <td>0.2</td>\n",
       "    </tr>\n",
       "    <tr>\n",
       "      <td>9</td>\n",
       "      <td>4.9</td>\n",
       "      <td>3.1</td>\n",
       "      <td>1.5</td>\n",
       "      <td>0.1</td>\n",
       "    </tr>\n",
       "  </tbody>\n",
       "</table>\n",
       "</div>"
      ],
      "text/plain": [
       "   sepal length (cm)  sepal width (cm)  petal length (cm)  petal width (cm)\n",
       "0                5.1               3.5                1.4               0.2\n",
       "1                4.9               3.0                1.4               0.2\n",
       "2                4.7               3.2                1.3               0.2\n",
       "3                4.6               3.1                1.5               0.2\n",
       "4                5.0               3.6                1.4               0.2\n",
       "5                5.4               3.9                1.7               0.4\n",
       "6                4.6               3.4                1.4               0.3\n",
       "7                5.0               3.4                1.5               0.2\n",
       "8                4.4               2.9                1.4               0.2\n",
       "9                4.9               3.1                1.5               0.1"
      ]
     },
     "execution_count": 125,
     "metadata": {},
     "output_type": "execute_result"
    }
   ],
   "source": [
    "X.head(10)"
   ]
  },
  {
   "cell_type": "code",
   "execution_count": 126,
   "metadata": {},
   "outputs": [
    {
     "data": {
      "text/plain": [
       "0    0\n",
       "1    0\n",
       "2    0\n",
       "3    0\n",
       "4    0\n",
       "5    0\n",
       "6    0\n",
       "7    0\n",
       "8    0\n",
       "9    0\n",
       "Name: target, dtype: int32"
      ]
     },
     "execution_count": 126,
     "metadata": {},
     "output_type": "execute_result"
    }
   ],
   "source": [
    "y.head(10)"
   ]
  },
  {
   "cell_type": "code",
   "execution_count": 127,
   "metadata": {},
   "outputs": [],
   "source": [
    "\n",
    "X_train, X_test, y_train, y_test = train_test_split(X, y, test_size=0.2) # in this our main data is split into train and test\n",
    "# the attribute test_size=0.2 splits the data into 80% and 20% ratio. train=80% and test=20%"
   ]
  },
  {
   "cell_type": "markdown",
   "metadata": {
    "_cell_guid": "c7d21e9f-8470-9aae-51ef-feea2cec6b1c",
    "_uuid": "0b18f7458fd76e93ed4a3932001f6f657cadb647"
   },
   "source": [
    "Lets check the Train and Test Dataset"
   ]
  },
  {
   "cell_type": "code",
   "execution_count": 128,
   "metadata": {},
   "outputs": [
    {
     "data": {
      "text/plain": [
       "80"
      ]
     },
     "execution_count": 128,
     "metadata": {},
     "output_type": "execute_result"
    }
   ],
   "source": [
    "len(X_train)"
   ]
  },
  {
   "cell_type": "code",
   "execution_count": 129,
   "metadata": {},
   "outputs": [
    {
     "data": {
      "text/plain": [
       "20"
      ]
     },
     "execution_count": 129,
     "metadata": {},
     "output_type": "execute_result"
    }
   ],
   "source": [
    "len(X_test)"
   ]
  },
  {
   "cell_type": "markdown",
   "metadata": {
    "_cell_guid": "82010322-d6f3-467d-f1da-4cb3fc82d0bd",
    "_uuid": "41536ca3ef126cf761c2b8aca8f02ffa407a5996"
   },
   "source": [
    "### Support Vector Machine (SVM)"
   ]
  },
  {
   "cell_type": "markdown",
   "metadata": {},
   "source": [
    "### Linear Kernel"
   ]
  },
  {
   "cell_type": "code",
   "execution_count": 130,
   "metadata": {},
   "outputs": [],
   "source": [
    "from sklearn.svm import SVC\n",
    "model = SVC(kernel=\"linear\",gamma=\"auto\") #select the algorithm"
   ]
  },
  {
   "cell_type": "code",
   "execution_count": 131,
   "metadata": {},
   "outputs": [
    {
     "data": {
      "text/plain": [
       "SVC(C=1.0, cache_size=200, class_weight=None, coef0=0.0,\n",
       "    decision_function_shape='ovr', degree=3, gamma='auto', kernel='linear',\n",
       "    max_iter=-1, probability=False, random_state=None, shrinking=True,\n",
       "    tol=0.001, verbose=False)"
      ]
     },
     "execution_count": 131,
     "metadata": {},
     "output_type": "execute_result"
    }
   ],
   "source": [
    "model.fit(X_train, y_train)  # we train the algorithm with the training data and the training output"
   ]
  },
  {
   "cell_type": "code",
   "execution_count": 132,
   "metadata": {},
   "outputs": [
    {
     "data": {
      "text/plain": [
       "1.0"
      ]
     },
     "execution_count": 132,
     "metadata": {},
     "output_type": "execute_result"
    }
   ],
   "source": [
    "model.score(X_test, y_test) # score on tesitng data"
   ]
  },
  {
   "cell_type": "markdown",
   "metadata": {},
   "source": [
    "##### The accuracy of the linear SVM is: 1.0"
   ]
  },
  {
   "cell_type": "code",
   "execution_count": 133,
   "metadata": {},
   "outputs": [
    {
     "data": {
      "text/plain": [
       "{'C': 1.0,\n",
       " 'cache_size': 200,\n",
       " 'class_weight': None,\n",
       " 'coef0': 0.0,\n",
       " 'decision_function_shape': 'ovr',\n",
       " 'degree': 3,\n",
       " 'gamma': 'auto',\n",
       " 'kernel': 'linear',\n",
       " 'max_iter': -1,\n",
       " 'probability': False,\n",
       " 'random_state': None,\n",
       " 'shrinking': True,\n",
       " 'tol': 0.001,\n",
       " 'verbose': False}"
      ]
     },
     "execution_count": 133,
     "metadata": {},
     "output_type": "execute_result"
    }
   ],
   "source": [
    "model.get_params('true') # get the model parameters"
   ]
  },
  {
   "cell_type": "code",
   "execution_count": 134,
   "metadata": {},
   "outputs": [
    {
     "data": {
      "text/plain": [
       "array([[4.5, 2.3, 1.3, 0.3],\n",
       "       [5.1, 3.3, 1.7, 0.5],\n",
       "       [5.1, 2.5, 3. , 1.1]])"
      ]
     },
     "execution_count": 134,
     "metadata": {},
     "output_type": "execute_result"
    }
   ],
   "source": [
    "model.support_vectors_  # get spport vectors"
   ]
  },
  {
   "cell_type": "code",
   "execution_count": 135,
   "metadata": {},
   "outputs": [
    {
     "data": {
      "text/plain": [
       "array([[-0.0772484 , -0.67051858,  0.74776699]])"
      ]
     },
     "execution_count": 135,
     "metadata": {},
     "output_type": "execute_result"
    }
   ],
   "source": [
    "model.dual_coef_ # model y_i α_i"
   ]
  },
  {
   "cell_type": "code",
   "execution_count": 136,
   "metadata": {},
   "outputs": [
    {
     "data": {
      "text/plain": [
       "array([-1.45376656])"
      ]
     },
     "execution_count": 136,
     "metadata": {},
     "output_type": "execute_result"
    }
   ],
   "source": [
    "model.intercept_  # independent term"
   ]
  },
  {
   "cell_type": "markdown",
   "metadata": {},
   "source": [
    "# Export  model code with porter"
   ]
  },
  {
   "cell_type": "code",
   "execution_count": 137,
   "metadata": {},
   "outputs": [],
   "source": [
    "from sklearn_porter import Porter"
   ]
  },
  {
   "cell_type": "markdown",
   "metadata": {},
   "source": [
    "## Java"
   ]
  },
  {
   "cell_type": "code",
   "execution_count": 138,
   "metadata": {},
   "outputs": [
    {
     "name": "stdout",
     "output_type": "stream",
     "text": [
      "class SVC {\n",
      "\n",
      "    private enum Kernel { LINEAR, POLY, RBF, SIGMOID }\n",
      "\n",
      "    private int nClasses;\n",
      "    private int nRows;\n",
      "    private int[] classes;\n",
      "    private double[][] vectors;\n",
      "    private double[][] coefficients;\n",
      "    private double[] intercepts;\n",
      "    private int[] weights;\n",
      "    private Kernel kernel;\n",
      "    private double gamma;\n",
      "    private double coef0;\n",
      "    private double degree;\n",
      "\n",
      "    public SVC (int nClasses, int nRows, double[][] vectors, double[][] coefficients, double[] intercepts, int[] weights, String kernel, double gamma, double coef0, double degree) {\n",
      "        this.nClasses = nClasses;\n",
      "        this.classes = new int[nClasses];\n",
      "        for (int i = 0; i < nClasses; i++) {\n",
      "            this.classes[i] = i;\n",
      "        }\n",
      "        this.nRows = nRows;\n",
      "\n",
      "        this.vectors = vectors;\n",
      "        this.coefficients = coefficients;\n",
      "        this.intercepts = intercepts;\n",
      "        this.weights = weights;\n",
      "\n",
      "        this.kernel = Kernel.valueOf(kernel.toUpperCase());\n",
      "        this.gamma = gamma;\n",
      "        this.coef0 = coef0;\n",
      "        this.degree = degree;\n",
      "    }\n",
      "\n",
      "    public int predict(double[] features) {\n",
      "    \n",
      "        double[] kernels = new double[vectors.length];\n",
      "        double kernel;\n",
      "        switch (this.kernel) {\n",
      "            case LINEAR:\n",
      "                // <x,x'>\n",
      "                for (int i = 0; i < this.vectors.length; i++) {\n",
      "                    kernel = 0.;\n",
      "                    for (int j = 0; j < this.vectors[i].length; j++) {\n",
      "                        kernel += this.vectors[i][j] * features[j];\n",
      "                    }\n",
      "                    kernels[i] = kernel;\n",
      "                }\n",
      "                break;\n",
      "            case POLY:\n",
      "                // (y<x,x'>+r)^d\n",
      "                for (int i = 0; i < this.vectors.length; i++) {\n",
      "                    kernel = 0.;\n",
      "                    for (int j = 0; j < this.vectors[i].length; j++) {\n",
      "                        kernel += this.vectors[i][j] * features[j];\n",
      "                    }\n",
      "                    kernels[i] = Math.pow((this.gamma * kernel) + this.coef0, this.degree);\n",
      "                }\n",
      "                break;\n",
      "            case RBF:\n",
      "                // exp(-y|x-x'|^2)\n",
      "                for (int i = 0; i < this.vectors.length; i++) {\n",
      "                    kernel = 0.;\n",
      "                    for (int j = 0; j < this.vectors[i].length; j++) {\n",
      "                        kernel += Math.pow(this.vectors[i][j] - features[j], 2);\n",
      "                    }\n",
      "                    kernels[i] = Math.exp(-this.gamma * kernel);\n",
      "                }\n",
      "                break;\n",
      "            case SIGMOID:\n",
      "                // tanh(y<x,x'>+r)\n",
      "                for (int i = 0; i < this.vectors.length; i++) {\n",
      "                    kernel = 0.;\n",
      "                    for (int j = 0; j < this.vectors[i].length; j++) {\n",
      "                        kernel += this.vectors[i][j] * features[j];\n",
      "                    }\n",
      "                    kernels[i] = Math.tanh((this.gamma * kernel) + this.coef0);\n",
      "                }\n",
      "                break;\n",
      "        }\n",
      "    \n",
      "        int[] starts = new int[this.nRows];\n",
      "        for (int i = 0; i < this.nRows; i++) {\n",
      "            if (i != 0) {\n",
      "                int start = 0;\n",
      "                for (int j = 0; j < i; j++) {\n",
      "                    start += this.weights[j];\n",
      "                }\n",
      "                starts[i] = start;\n",
      "            } else {\n",
      "                starts[0] = 0;\n",
      "            }\n",
      "        }\n",
      "    \n",
      "        int[] ends = new int[this.nRows];\n",
      "        for (int i = 0; i < this.nRows; i++) {\n",
      "            ends[i] = this.weights[i] + starts[i];\n",
      "        }\n",
      "    \n",
      "        if (this.nClasses == 2) {\n",
      "    \n",
      "            for (int i = 0; i < kernels.length; i++) {\n",
      "                kernels[i] = -kernels[i];\n",
      "            }\n",
      "    \n",
      "            double decision = 0.;\n",
      "            for (int k = starts[1]; k < ends[1]; k++) {\n",
      "                decision += kernels[k] * this.coefficients[0][k];\n",
      "            }\n",
      "            for (int k = starts[0]; k < ends[0]; k++) {\n",
      "                decision += kernels[k] * this.coefficients[0][k];\n",
      "            }\n",
      "            decision += this.intercepts[0];\n",
      "    \n",
      "            if (decision > 0) {\n",
      "                return 0;\n",
      "            }\n",
      "            return 1;\n",
      "    \n",
      "        }\n",
      "    \n",
      "        double[] decisions = new double[this.intercepts.length];\n",
      "        for (int i = 0, d = 0, l = this.nRows; i < l; i++) {\n",
      "            for (int j = i + 1; j < l; j++) {\n",
      "                double tmp = 0.;\n",
      "                for (int k = starts[j]; k < ends[j]; k++) {\n",
      "                    tmp += this.coefficients[i][k] * kernels[k];\n",
      "                }\n",
      "                for (int k = starts[i]; k < ends[i]; k++) {\n",
      "                    tmp += this.coefficients[j - 1][k] * kernels[k];\n",
      "                }\n",
      "                decisions[d] = tmp + this.intercepts[d];\n",
      "                d++;\n",
      "            }\n",
      "        }\n",
      "    \n",
      "        int[] votes = new int[this.intercepts.length];\n",
      "        for (int i = 0, d = 0, l = this.nRows; i < l; i++) {\n",
      "            for (int j = i + 1; j < l; j++) {\n",
      "                votes[d] = decisions[d] > 0 ? i : j;\n",
      "                d++;\n",
      "            }\n",
      "        }\n",
      "    \n",
      "        int[] amounts = new int[this.nClasses];\n",
      "        for (int i = 0, l = votes.length; i < l; i++) {\n",
      "            amounts[votes[i]] += 1;\n",
      "        }\n",
      "    \n",
      "        int classVal = -1, classIdx = -1;\n",
      "        for (int i = 0, l = amounts.length; i < l; i++) {\n",
      "            if (amounts[i] > classVal) {\n",
      "                classVal = amounts[i];\n",
      "                classIdx= i;\n",
      "            }\n",
      "        }\n",
      "        return this.classes[classIdx];\n",
      "    \n",
      "    }\n",
      "\n",
      "    public static void main(String[] args) {\n",
      "        if (args.length == 4) {\n",
      "\n",
      "            // Features:\n",
      "            double[] features = new double[args.length];\n",
      "            for (int i = 0, l = args.length; i < l; i++) {\n",
      "                features[i] = Double.parseDouble(args[i]);\n",
      "            }\n",
      "\n",
      "            // Parameters:\n",
      "            double[][] vectors = {{4.5, 2.3, 1.3, 0.3}, {5.1, 3.3, 1.7, 0.5}, {5.1, 2.5, 3.0, 1.1}};\n",
      "            double[][] coefficients = {{-0.07724840262003278, -0.6705185831514366, 0.7477669857714694}};\n",
      "            double[] intercepts = {1.453766563649063};\n",
      "            int[] weights = {2, 1};\n",
      "\n",
      "            // Prediction:\n",
      "            SVC clf = new SVC(2, 2, vectors, coefficients, intercepts, weights, \"linear\", 0.25, 0.0, 3);\n",
      "            int estimation = clf.predict(features);\n",
      "            System.out.println(estimation);\n",
      "\n",
      "        }\n",
      "    }\n",
      "}\n"
     ]
    }
   ],
   "source": [
    "porter = Porter(model, language='java')\n",
    "output = porter.export(embed_data=True)\n",
    "print(output)"
   ]
  },
  {
   "cell_type": "markdown",
   "metadata": {},
   "source": [
    "## C"
   ]
  },
  {
   "cell_type": "code",
   "execution_count": 139,
   "metadata": {},
   "outputs": [
    {
     "name": "stdout",
     "output_type": "stream",
     "text": [
      "#include <stdlib.h>\n",
      "#include <stdio.h>\n",
      "#include <math.h>\n",
      "\n",
      "#define N_FEATURES 4\n",
      "#define N_CLASSES 2\n",
      "#define N_VECTORS 3\n",
      "#define N_ROWS 2\n",
      "#define N_COEFFICIENTS 1\n",
      "#define N_INTERCEPTS 1\n",
      "#define KERNEL_TYPE 'l'\n",
      "#define KERNEL_GAMMA 0.25\n",
      "#define KERNEL_COEF 0.0\n",
      "#define KERNEL_DEGREE 3\n",
      "\n",
      "double vectors[3][4] = {{4.5, 2.3, 1.3, 0.3}, {5.1, 3.3, 1.7, 0.5}, {5.1, 2.5, 3.0, 1.1}};\n",
      "double coefficients[1][3] = {{-0.07724840262003278, -0.6705185831514366, 0.7477669857714694}};\n",
      "double intercepts[1] = {1.453766563649063};\n",
      "int weights[2] = {2, 1};\n",
      "\n",
      "int predict (double features[]) {\n",
      "    int i, j, k, d, l;\n",
      "\n",
      "    double kernels[N_VECTORS];\n",
      "    double kernel;\n",
      "    switch (KERNEL_TYPE) {\n",
      "        case 'l':\n",
      "            // <x,x'>\n",
      "            for (i = 0; i < N_VECTORS; i++) {\n",
      "                kernel = 0.;\n",
      "                for (j = 0; j < N_FEATURES; j++) {\n",
      "                    kernel += vectors[i][j] * features[j];\n",
      "                }\n",
      "                kernels[i] = kernel;\n",
      "            }\n",
      "            break;\n",
      "        case 'p':\n",
      "            // (y<x,x'>+r)^d\n",
      "            for (i = 0; i < N_VECTORS; i++) {\n",
      "                kernel = 0.;\n",
      "                for (j = 0; j < N_FEATURES; j++) {\n",
      "                    kernel += vectors[i][j] * features[j];\n",
      "                }\n",
      "                kernels[i] = pow((KERNEL_GAMMA * kernel) + KERNEL_COEF, KERNEL_DEGREE);\n",
      "            }\n",
      "            break;\n",
      "        case 'r':\n",
      "            // exp(-y|x-x'|^2)\n",
      "            for (i = 0; i < N_VECTORS; i++) {\n",
      "                kernel = 0.;\n",
      "                for (j = 0; j < N_FEATURES; j++) {\n",
      "                    kernel += pow(vectors[i][j] - features[j], 2);\n",
      "                }\n",
      "                kernels[i] = exp(-KERNEL_GAMMA * kernel);\n",
      "            }\n",
      "            break;\n",
      "        case 's':\n",
      "            // tanh(y<x,x'>+r)\n",
      "            for (i = 0; i < N_VECTORS; i++) {\n",
      "                kernel = 0.;\n",
      "                for (j = 0; j < N_FEATURES; j++) {\n",
      "                    kernel += vectors[i][j] * features[j];\n",
      "                }\n",
      "                kernels[i] = tanh((KERNEL_GAMMA * kernel) + KERNEL_COEF);\n",
      "            }\n",
      "            break;\n",
      "    }\n",
      "\n",
      "    int starts[N_ROWS];\n",
      "    int start;\n",
      "    for (i = 0; i < N_ROWS; i++) {\n",
      "        if (i != 0) {\n",
      "            start = 0;\n",
      "            for (j = 0; j < i; j++) {\n",
      "                start += weights[j];\n",
      "            }\n",
      "            starts[i] = start;\n",
      "        } else {\n",
      "            starts[0] = 0;\n",
      "        }\n",
      "    }\n",
      "\n",
      "    int ends[N_ROWS];\n",
      "    for (i = 0; i < N_ROWS; i++) {\n",
      "        ends[i] = weights[i] + starts[i];\n",
      "    }\n",
      "\n",
      "    if (N_CLASSES == 2) {\n",
      "\n",
      "        for (i = 0; i < N_VECTORS; i++) {\n",
      "            kernels[i] = -kernels[i];\n",
      "        }\n",
      "\n",
      "        double decision = 0.;\n",
      "        for (k = starts[1]; k < ends[1]; k++) {\n",
      "            decision += kernels[k] * coefficients[0][k];\n",
      "        }\n",
      "        for (k = starts[0]; k < ends[0]; k++) {\n",
      "            decision += kernels[k] * coefficients[0][k];\n",
      "        }\n",
      "        decision += intercepts[0];\n",
      "\n",
      "        if (decision > 0) {\n",
      "            return 0;\n",
      "        }\n",
      "        return 1;\n",
      "\n",
      "    }\n",
      "\n",
      "    double decisions[N_INTERCEPTS];\n",
      "    double tmp;\n",
      "    for (i = 0, d = 0, l = N_ROWS; i < l; i++) {\n",
      "        for (j = i + 1; j < l; j++) {\n",
      "            tmp = 0.;\n",
      "            for (k = starts[j]; k < ends[j]; k++) {\n",
      "                tmp += kernels[k] * coefficients[i][k];\n",
      "            }\n",
      "            for (k = starts[i]; k < ends[i]; k++) {\n",
      "                tmp += kernels[k] * coefficients[j - 1][k];\n",
      "            }\n",
      "            decisions[d] = tmp + intercepts[d];\n",
      "            d = d + 1;\n",
      "        }\n",
      "    }\n",
      "\n",
      "    int votes[N_INTERCEPTS];\n",
      "    for (i = 0, d = 0, l = N_ROWS; i < l; i++) {\n",
      "        for (j = i + 1; j < l; j++) {\n",
      "            votes[d] = decisions[d] > 0 ? i : j;\n",
      "            d = d + 1;\n",
      "        }\n",
      "    }\n",
      "\n",
      "    int amounts[N_CLASSES];\n",
      "    for (i = 0, l = N_CLASSES; i < l; i++) {\n",
      "        amounts[i] = 0;\n",
      "    }\n",
      "    for (i = 0; i < N_INTERCEPTS; i++) {\n",
      "        amounts[votes[i]] += 1;\n",
      "    }\n",
      "\n",
      "    int classVal = -1;\n",
      "    int classIdx = -1;\n",
      "    for (i = 0; i < N_CLASSES; i++) {\n",
      "        if (amounts[i] > classVal) {\n",
      "            classVal = amounts[i];\n",
      "            classIdx= i;\n",
      "        }\n",
      "    }\n",
      "    return classIdx;\n",
      "\n",
      "}\n",
      "\n",
      "int main(int argc, const char * argv[]) {\n",
      "\n",
      "    /* Features: */\n",
      "    double features[argc-1];\n",
      "    int i;\n",
      "    for (i = 1; i < argc; i++) {\n",
      "        features[i-1] = atof(argv[i]);\n",
      "    }\n",
      "\n",
      "    /* Prediction: */\n",
      "    printf(\"%d\", predict(features));\n",
      "    return 0;\n",
      "\n",
      "}\n",
      "\n"
     ]
    }
   ],
   "source": [
    "porter = Porter(model, language='c')\n",
    "output = porter.export(embed_data=True)\n",
    "print(output)"
   ]
  },
  {
   "cell_type": "markdown",
   "metadata": {},
   "source": [
    "### Poly Kernel"
   ]
  },
  {
   "cell_type": "code",
   "execution_count": 140,
   "metadata": {},
   "outputs": [],
   "source": [
    "poly_model = SVC(kernel=\"poly\",gamma=\"auto\") #select the algorithm"
   ]
  },
  {
   "cell_type": "code",
   "execution_count": 141,
   "metadata": {},
   "outputs": [
    {
     "data": {
      "text/plain": [
       "SVC(C=1.0, cache_size=200, class_weight=None, coef0=0.0,\n",
       "    decision_function_shape='ovr', degree=3, gamma='auto', kernel='poly',\n",
       "    max_iter=-1, probability=False, random_state=None, shrinking=True,\n",
       "    tol=0.001, verbose=False)"
      ]
     },
     "execution_count": 141,
     "metadata": {},
     "output_type": "execute_result"
    }
   ],
   "source": [
    "poly_model.fit(X_train, y_train)  # we train the algorithm with the training data and the training output"
   ]
  },
  {
   "cell_type": "code",
   "execution_count": 142,
   "metadata": {},
   "outputs": [
    {
     "data": {
      "text/plain": [
       "1.0"
      ]
     },
     "execution_count": 142,
     "metadata": {},
     "output_type": "execute_result"
    }
   ],
   "source": [
    "poly_model.score(X_test, y_test) # score on tesitng data"
   ]
  },
  {
   "cell_type": "markdown",
   "metadata": {},
   "source": [
    "##### The accuracy of the poly SVM is: 1.0"
   ]
  },
  {
   "cell_type": "code",
   "execution_count": 143,
   "metadata": {},
   "outputs": [
    {
     "data": {
      "text/plain": [
       "{'C': 1.0,\n",
       " 'cache_size': 200,\n",
       " 'class_weight': None,\n",
       " 'coef0': 0.0,\n",
       " 'decision_function_shape': 'ovr',\n",
       " 'degree': 3,\n",
       " 'gamma': 'auto',\n",
       " 'kernel': 'poly',\n",
       " 'max_iter': -1,\n",
       " 'probability': False,\n",
       " 'random_state': None,\n",
       " 'shrinking': True,\n",
       " 'tol': 0.001,\n",
       " 'verbose': False}"
      ]
     },
     "execution_count": 143,
     "metadata": {},
     "output_type": "execute_result"
    }
   ],
   "source": [
    "poly_model.get_params('true') # get the model parameters"
   ]
  },
  {
   "cell_type": "code",
   "execution_count": 144,
   "metadata": {},
   "outputs": [
    {
     "data": {
      "text/plain": [
       "array([[4.5, 2.3, 1.3, 0.3],\n",
       "       [5.1, 3.3, 1.7, 0.5],\n",
       "       [5.1, 2.5, 3. , 1.1]])"
      ]
     },
     "execution_count": 144,
     "metadata": {},
     "output_type": "execute_result"
    }
   ],
   "source": [
    "poly_model.support_vectors_  # get spport vectors"
   ]
  },
  {
   "cell_type": "code",
   "execution_count": 145,
   "metadata": {},
   "outputs": [
    {
     "data": {
      "text/plain": [
       "array([[-0.00051006, -0.0088859 ,  0.00939596]])"
      ]
     },
     "execution_count": 145,
     "metadata": {},
     "output_type": "execute_result"
    }
   ],
   "source": [
    "poly_model.dual_coef_ # model y_i α_i"
   ]
  },
  {
   "cell_type": "code",
   "execution_count": 146,
   "metadata": {},
   "outputs": [
    {
     "data": {
      "text/plain": [
       "array([-1.13583882])"
      ]
     },
     "execution_count": 146,
     "metadata": {},
     "output_type": "execute_result"
    }
   ],
   "source": [
    "poly_model.intercept_  # independent term"
   ]
  },
  {
   "cell_type": "markdown",
   "metadata": {},
   "source": [
    "# Export  model code with porter"
   ]
  },
  {
   "cell_type": "code",
   "execution_count": 147,
   "metadata": {},
   "outputs": [],
   "source": [
    "from sklearn_porter import Porter"
   ]
  },
  {
   "cell_type": "markdown",
   "metadata": {},
   "source": [
    "## Java"
   ]
  },
  {
   "cell_type": "code",
   "execution_count": 148,
   "metadata": {},
   "outputs": [
    {
     "name": "stdout",
     "output_type": "stream",
     "text": [
      "class SVC {\n",
      "\n",
      "    private enum Kernel { LINEAR, POLY, RBF, SIGMOID }\n",
      "\n",
      "    private int nClasses;\n",
      "    private int nRows;\n",
      "    private int[] classes;\n",
      "    private double[][] vectors;\n",
      "    private double[][] coefficients;\n",
      "    private double[] intercepts;\n",
      "    private int[] weights;\n",
      "    private Kernel kernel;\n",
      "    private double gamma;\n",
      "    private double coef0;\n",
      "    private double degree;\n",
      "\n",
      "    public SVC (int nClasses, int nRows, double[][] vectors, double[][] coefficients, double[] intercepts, int[] weights, String kernel, double gamma, double coef0, double degree) {\n",
      "        this.nClasses = nClasses;\n",
      "        this.classes = new int[nClasses];\n",
      "        for (int i = 0; i < nClasses; i++) {\n",
      "            this.classes[i] = i;\n",
      "        }\n",
      "        this.nRows = nRows;\n",
      "\n",
      "        this.vectors = vectors;\n",
      "        this.coefficients = coefficients;\n",
      "        this.intercepts = intercepts;\n",
      "        this.weights = weights;\n",
      "\n",
      "        this.kernel = Kernel.valueOf(kernel.toUpperCase());\n",
      "        this.gamma = gamma;\n",
      "        this.coef0 = coef0;\n",
      "        this.degree = degree;\n",
      "    }\n",
      "\n",
      "    public int predict(double[] features) {\n",
      "    \n",
      "        double[] kernels = new double[vectors.length];\n",
      "        double kernel;\n",
      "        switch (this.kernel) {\n",
      "            case LINEAR:\n",
      "                // <x,x'>\n",
      "                for (int i = 0; i < this.vectors.length; i++) {\n",
      "                    kernel = 0.;\n",
      "                    for (int j = 0; j < this.vectors[i].length; j++) {\n",
      "                        kernel += this.vectors[i][j] * features[j];\n",
      "                    }\n",
      "                    kernels[i] = kernel;\n",
      "                }\n",
      "                break;\n",
      "            case POLY:\n",
      "                // (y<x,x'>+r)^d\n",
      "                for (int i = 0; i < this.vectors.length; i++) {\n",
      "                    kernel = 0.;\n",
      "                    for (int j = 0; j < this.vectors[i].length; j++) {\n",
      "                        kernel += this.vectors[i][j] * features[j];\n",
      "                    }\n",
      "                    kernels[i] = Math.pow((this.gamma * kernel) + this.coef0, this.degree);\n",
      "                }\n",
      "                break;\n",
      "            case RBF:\n",
      "                // exp(-y|x-x'|^2)\n",
      "                for (int i = 0; i < this.vectors.length; i++) {\n",
      "                    kernel = 0.;\n",
      "                    for (int j = 0; j < this.vectors[i].length; j++) {\n",
      "                        kernel += Math.pow(this.vectors[i][j] - features[j], 2);\n",
      "                    }\n",
      "                    kernels[i] = Math.exp(-this.gamma * kernel);\n",
      "                }\n",
      "                break;\n",
      "            case SIGMOID:\n",
      "                // tanh(y<x,x'>+r)\n",
      "                for (int i = 0; i < this.vectors.length; i++) {\n",
      "                    kernel = 0.;\n",
      "                    for (int j = 0; j < this.vectors[i].length; j++) {\n",
      "                        kernel += this.vectors[i][j] * features[j];\n",
      "                    }\n",
      "                    kernels[i] = Math.tanh((this.gamma * kernel) + this.coef0);\n",
      "                }\n",
      "                break;\n",
      "        }\n",
      "    \n",
      "        int[] starts = new int[this.nRows];\n",
      "        for (int i = 0; i < this.nRows; i++) {\n",
      "            if (i != 0) {\n",
      "                int start = 0;\n",
      "                for (int j = 0; j < i; j++) {\n",
      "                    start += this.weights[j];\n",
      "                }\n",
      "                starts[i] = start;\n",
      "            } else {\n",
      "                starts[0] = 0;\n",
      "            }\n",
      "        }\n",
      "    \n",
      "        int[] ends = new int[this.nRows];\n",
      "        for (int i = 0; i < this.nRows; i++) {\n",
      "            ends[i] = this.weights[i] + starts[i];\n",
      "        }\n",
      "    \n",
      "        if (this.nClasses == 2) {\n",
      "    \n",
      "            for (int i = 0; i < kernels.length; i++) {\n",
      "                kernels[i] = -kernels[i];\n",
      "            }\n",
      "    \n",
      "            double decision = 0.;\n",
      "            for (int k = starts[1]; k < ends[1]; k++) {\n",
      "                decision += kernels[k] * this.coefficients[0][k];\n",
      "            }\n",
      "            for (int k = starts[0]; k < ends[0]; k++) {\n",
      "                decision += kernels[k] * this.coefficients[0][k];\n",
      "            }\n",
      "            decision += this.intercepts[0];\n",
      "    \n",
      "            if (decision > 0) {\n",
      "                return 0;\n",
      "            }\n",
      "            return 1;\n",
      "    \n",
      "        }\n",
      "    \n",
      "        double[] decisions = new double[this.intercepts.length];\n",
      "        for (int i = 0, d = 0, l = this.nRows; i < l; i++) {\n",
      "            for (int j = i + 1; j < l; j++) {\n",
      "                double tmp = 0.;\n",
      "                for (int k = starts[j]; k < ends[j]; k++) {\n",
      "                    tmp += this.coefficients[i][k] * kernels[k];\n",
      "                }\n",
      "                for (int k = starts[i]; k < ends[i]; k++) {\n",
      "                    tmp += this.coefficients[j - 1][k] * kernels[k];\n",
      "                }\n",
      "                decisions[d] = tmp + this.intercepts[d];\n",
      "                d++;\n",
      "            }\n",
      "        }\n",
      "    \n",
      "        int[] votes = new int[this.intercepts.length];\n",
      "        for (int i = 0, d = 0, l = this.nRows; i < l; i++) {\n",
      "            for (int j = i + 1; j < l; j++) {\n",
      "                votes[d] = decisions[d] > 0 ? i : j;\n",
      "                d++;\n",
      "            }\n",
      "        }\n",
      "    \n",
      "        int[] amounts = new int[this.nClasses];\n",
      "        for (int i = 0, l = votes.length; i < l; i++) {\n",
      "            amounts[votes[i]] += 1;\n",
      "        }\n",
      "    \n",
      "        int classVal = -1, classIdx = -1;\n",
      "        for (int i = 0, l = amounts.length; i < l; i++) {\n",
      "            if (amounts[i] > classVal) {\n",
      "                classVal = amounts[i];\n",
      "                classIdx= i;\n",
      "            }\n",
      "        }\n",
      "        return this.classes[classIdx];\n",
      "    \n",
      "    }\n",
      "\n",
      "    public static void main(String[] args) {\n",
      "        if (args.length == 4) {\n",
      "\n",
      "            // Features:\n",
      "            double[] features = new double[args.length];\n",
      "            for (int i = 0, l = args.length; i < l; i++) {\n",
      "                features[i] = Double.parseDouble(args[i]);\n",
      "            }\n",
      "\n",
      "            // Parameters:\n",
      "            double[][] vectors = {{4.5, 2.3, 1.3, 0.3}, {5.1, 3.3, 1.7, 0.5}, {5.1, 2.5, 3.0, 1.1}};\n",
      "            double[][] coefficients = {{-0.0005100630977269122, -0.008885899026071108, 0.009395962123798021}};\n",
      "            double[] intercepts = {1.1358388232934824};\n",
      "            int[] weights = {2, 1};\n",
      "\n",
      "            // Prediction:\n",
      "            SVC clf = new SVC(2, 2, vectors, coefficients, intercepts, weights, \"poly\", 0.25, 0.0, 3);\n",
      "            int estimation = clf.predict(features);\n",
      "            System.out.println(estimation);\n",
      "\n",
      "        }\n",
      "    }\n",
      "}\n"
     ]
    }
   ],
   "source": [
    "porter = Porter(poly_model, language='java')\n",
    "output = porter.export(embed_data=True)\n",
    "print(output)"
   ]
  },
  {
   "cell_type": "markdown",
   "metadata": {},
   "source": [
    "## C"
   ]
  },
  {
   "cell_type": "code",
   "execution_count": 149,
   "metadata": {},
   "outputs": [
    {
     "name": "stdout",
     "output_type": "stream",
     "text": [
      "#include <stdlib.h>\n",
      "#include <stdio.h>\n",
      "#include <math.h>\n",
      "\n",
      "#define N_FEATURES 4\n",
      "#define N_CLASSES 2\n",
      "#define N_VECTORS 3\n",
      "#define N_ROWS 2\n",
      "#define N_COEFFICIENTS 1\n",
      "#define N_INTERCEPTS 1\n",
      "#define KERNEL_TYPE 'p'\n",
      "#define KERNEL_GAMMA 0.25\n",
      "#define KERNEL_COEF 0.0\n",
      "#define KERNEL_DEGREE 3\n",
      "\n",
      "double vectors[3][4] = {{4.5, 2.3, 1.3, 0.3}, {5.1, 3.3, 1.7, 0.5}, {5.1, 2.5, 3.0, 1.1}};\n",
      "double coefficients[1][3] = {{-0.0005100630977269122, -0.008885899026071108, 0.009395962123798021}};\n",
      "double intercepts[1] = {1.1358388232934824};\n",
      "int weights[2] = {2, 1};\n",
      "\n",
      "int predict (double features[]) {\n",
      "    int i, j, k, d, l;\n",
      "\n",
      "    double kernels[N_VECTORS];\n",
      "    double kernel;\n",
      "    switch (KERNEL_TYPE) {\n",
      "        case 'l':\n",
      "            // <x,x'>\n",
      "            for (i = 0; i < N_VECTORS; i++) {\n",
      "                kernel = 0.;\n",
      "                for (j = 0; j < N_FEATURES; j++) {\n",
      "                    kernel += vectors[i][j] * features[j];\n",
      "                }\n",
      "                kernels[i] = kernel;\n",
      "            }\n",
      "            break;\n",
      "        case 'p':\n",
      "            // (y<x,x'>+r)^d\n",
      "            for (i = 0; i < N_VECTORS; i++) {\n",
      "                kernel = 0.;\n",
      "                for (j = 0; j < N_FEATURES; j++) {\n",
      "                    kernel += vectors[i][j] * features[j];\n",
      "                }\n",
      "                kernels[i] = pow((KERNEL_GAMMA * kernel) + KERNEL_COEF, KERNEL_DEGREE);\n",
      "            }\n",
      "            break;\n",
      "        case 'r':\n",
      "            // exp(-y|x-x'|^2)\n",
      "            for (i = 0; i < N_VECTORS; i++) {\n",
      "                kernel = 0.;\n",
      "                for (j = 0; j < N_FEATURES; j++) {\n",
      "                    kernel += pow(vectors[i][j] - features[j], 2);\n",
      "                }\n",
      "                kernels[i] = exp(-KERNEL_GAMMA * kernel);\n",
      "            }\n",
      "            break;\n",
      "        case 's':\n",
      "            // tanh(y<x,x'>+r)\n",
      "            for (i = 0; i < N_VECTORS; i++) {\n",
      "                kernel = 0.;\n",
      "                for (j = 0; j < N_FEATURES; j++) {\n",
      "                    kernel += vectors[i][j] * features[j];\n",
      "                }\n",
      "                kernels[i] = tanh((KERNEL_GAMMA * kernel) + KERNEL_COEF);\n",
      "            }\n",
      "            break;\n",
      "    }\n",
      "\n",
      "    int starts[N_ROWS];\n",
      "    int start;\n",
      "    for (i = 0; i < N_ROWS; i++) {\n",
      "        if (i != 0) {\n",
      "            start = 0;\n",
      "            for (j = 0; j < i; j++) {\n",
      "                start += weights[j];\n",
      "            }\n",
      "            starts[i] = start;\n",
      "        } else {\n",
      "            starts[0] = 0;\n",
      "        }\n",
      "    }\n",
      "\n",
      "    int ends[N_ROWS];\n",
      "    for (i = 0; i < N_ROWS; i++) {\n",
      "        ends[i] = weights[i] + starts[i];\n",
      "    }\n",
      "\n",
      "    if (N_CLASSES == 2) {\n",
      "\n",
      "        for (i = 0; i < N_VECTORS; i++) {\n",
      "            kernels[i] = -kernels[i];\n",
      "        }\n",
      "\n",
      "        double decision = 0.;\n",
      "        for (k = starts[1]; k < ends[1]; k++) {\n",
      "            decision += kernels[k] * coefficients[0][k];\n",
      "        }\n",
      "        for (k = starts[0]; k < ends[0]; k++) {\n",
      "            decision += kernels[k] * coefficients[0][k];\n",
      "        }\n",
      "        decision += intercepts[0];\n",
      "\n",
      "        if (decision > 0) {\n",
      "            return 0;\n",
      "        }\n",
      "        return 1;\n",
      "\n",
      "    }\n",
      "\n",
      "    double decisions[N_INTERCEPTS];\n",
      "    double tmp;\n",
      "    for (i = 0, d = 0, l = N_ROWS; i < l; i++) {\n",
      "        for (j = i + 1; j < l; j++) {\n",
      "            tmp = 0.;\n",
      "            for (k = starts[j]; k < ends[j]; k++) {\n",
      "                tmp += kernels[k] * coefficients[i][k];\n",
      "            }\n",
      "            for (k = starts[i]; k < ends[i]; k++) {\n",
      "                tmp += kernels[k] * coefficients[j - 1][k];\n",
      "            }\n",
      "            decisions[d] = tmp + intercepts[d];\n",
      "            d = d + 1;\n",
      "        }\n",
      "    }\n",
      "\n",
      "    int votes[N_INTERCEPTS];\n",
      "    for (i = 0, d = 0, l = N_ROWS; i < l; i++) {\n",
      "        for (j = i + 1; j < l; j++) {\n",
      "            votes[d] = decisions[d] > 0 ? i : j;\n",
      "            d = d + 1;\n",
      "        }\n",
      "    }\n",
      "\n",
      "    int amounts[N_CLASSES];\n",
      "    for (i = 0, l = N_CLASSES; i < l; i++) {\n",
      "        amounts[i] = 0;\n",
      "    }\n",
      "    for (i = 0; i < N_INTERCEPTS; i++) {\n",
      "        amounts[votes[i]] += 1;\n",
      "    }\n",
      "\n",
      "    int classVal = -1;\n",
      "    int classIdx = -1;\n",
      "    for (i = 0; i < N_CLASSES; i++) {\n",
      "        if (amounts[i] > classVal) {\n",
      "            classVal = amounts[i];\n",
      "            classIdx= i;\n",
      "        }\n",
      "    }\n",
      "    return classIdx;\n",
      "\n",
      "}\n",
      "\n",
      "int main(int argc, const char * argv[]) {\n",
      "\n",
      "    /* Features: */\n",
      "    double features[argc-1];\n",
      "    int i;\n",
      "    for (i = 1; i < argc; i++) {\n",
      "        features[i-1] = atof(argv[i]);\n",
      "    }\n",
      "\n",
      "    /* Prediction: */\n",
      "    printf(\"%d\", predict(features));\n",
      "    return 0;\n",
      "\n",
      "}\n",
      "\n"
     ]
    }
   ],
   "source": [
    "porter = Porter(poly_model, language='c')\n",
    "output = porter.export(embed_data=True)\n",
    "print(output)"
   ]
  },
  {
   "cell_type": "code",
   "execution_count": null,
   "metadata": {},
   "outputs": [],
   "source": []
  },
  {
   "cell_type": "code",
   "execution_count": null,
   "metadata": {},
   "outputs": [],
   "source": []
  },
  {
   "cell_type": "code",
   "execution_count": null,
   "metadata": {},
   "outputs": [],
   "source": []
  },
  {
   "cell_type": "code",
   "execution_count": null,
   "metadata": {},
   "outputs": [],
   "source": []
  }
 ],
 "metadata": {
  "_change_revision": 0,
  "_is_fork": false,
  "kernelspec": {
   "display_name": "Python 3",
   "language": "python",
   "name": "python3"
  },
  "language_info": {
   "codemirror_mode": {
    "name": "ipython",
    "version": 3
   },
   "file_extension": ".py",
   "mimetype": "text/x-python",
   "name": "python",
   "nbconvert_exporter": "python",
   "pygments_lexer": "ipython3",
   "version": "3.7.4"
  }
 },
 "nbformat": 4,
 "nbformat_minor": 1
}
